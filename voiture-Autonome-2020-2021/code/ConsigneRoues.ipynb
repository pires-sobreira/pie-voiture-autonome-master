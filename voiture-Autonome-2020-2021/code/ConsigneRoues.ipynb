{
 "cells": [
  {
   "cell_type": "code",
   "execution_count": null,
   "metadata": {},
   "outputs": [],
   "source": [
    "import numpy as np\n",
    "import copy\n",
    "from zonesafe import *\n",
    "from adaptevitesserelat import *\n",
    "from trouvecible import *\n",
    "from environment import *\n",
    "from lidar import *\n",
    "from actualise import *\n",
    "from actualise2 import *\n",
    "from params import *\n",
    "from calculrayoncourbure import *\n",
    "from math import *\n",
    "from objectif import *\n",
    "\n",
    "def ConsigneRoues(Mm1,Vm1):\n",
    "    \n",
    "    #Mm1 et Vm1 sont la sortie lidar et la vitesse a l instant d avant\n",
    "\n",
    "\n",
    "envir=environment()\n",
    "[positioninit, p2, orientationinit, o2, vinit, vi2, deltat,amaxlat,epsilonmax,amax,amin,tsb,l,larg,vmax,N,rv,m,alpha,lanti]=params()\n",
    "alphainc=360/N\n",
    "\n",
    "v=0 #vitesse a l instant present\n",
    "\n",
    "M=lidar(envir,position,orientation,N) #a remplacer par la sortie lidar\n",
    "\n",
    "MMMR=zonesafe(M,rv,m)\n",
    "\n",
    "MMMRC=adaptevitesserelat (Mm1,M,MMMR,alpha,v,deltat,lanti)\n",
    "cible=trouvecible(MMMRC)\n",
    "obj=objectif(cible,v,deltat)\n",
    "R=calculrayoncourbure(obj)\n",
    "\n",
    "\n",
    "\n",
    "return(thetaRoues)\n"
   ]
  }
 ],
 "metadata": {
  "kernelspec": {
   "display_name": "Python 3",
   "language": "python",
   "name": "python3"
  },
  "language_info": {
   "codemirror_mode": {
    "name": "ipython",
    "version": 3
   },
   "file_extension": ".py",
   "mimetype": "text/x-python",
   "name": "python",
   "nbconvert_exporter": "python",
   "pygments_lexer": "ipython3",
   "version": "3.8.3"
  }
 },
 "nbformat": 4,
 "nbformat_minor": 4
}
